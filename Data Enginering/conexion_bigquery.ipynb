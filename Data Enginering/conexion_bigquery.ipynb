{
 "cells": [
  {
   "cell_type": "code",
   "execution_count": 1,
   "metadata": {},
   "outputs": [],
   "source": [
    "# Importar pandas antes de google.cloud.bigquery\n",
    "import pandas as pd\n",
    "from google.cloud import bigquery\n",
    "import db_dtypes\n",
    "\n",
    "\n",
    "# Crear el cliente de BigQuery\n",
    "client = bigquery.Client()"
   ]
  },
  {
   "cell_type": "code",
   "execution_count": 2,
   "metadata": {},
   "outputs": [
    {
     "name": "stdout",
     "output_type": "stream",
     "text": [
      "                                gmap_id         name  \\\n",
      "0  0X80C063E4Eba4487F0X2F895B50Bd80Adc8          Atm   \n",
      "1  0X80C063E4Eba4487F0X2F895B50Bd80Adc8          Atm   \n",
      "2  0X809Ac89E1021C28B0X6308C952B7A00869  Us Bank Atm   \n",
      "3  0X809Ac89E1021C28B0X6308C952B7A00869  Us Bank Atm   \n",
      "4  0X80Dca5F89F63B87F0X890Bbb982D6B6Fdd     Coinstar   \n",
      "\n",
      "                           address description   latitude   longitude  \\\n",
      "0   Atm 601 Us395 Olancha Ca 93549    Sin Dato  36.274027 -118.002776   \n",
      "1   Atm 601 Us395 Olancha Ca 93549    Sin Dato  36.274027 -118.002776   \n",
      "2   Us Bank Atm Elk Grove Ca 95758    Sin Dato  38.424089 -121.446425   \n",
      "3   Us Bank Atm Elk Grove Ca 95758    Sin Dato  38.424089 -121.446425   \n",
      "4  Coinstar Moreno Valley Ca 92553    Sin Dato  33.933977 -117.275078   \n",
      "\n",
      "  category  num_of_reviews  \n",
      "0      Atm               3  \n",
      "1      Atm               3  \n",
      "2      Atm               1  \n",
      "3      Atm               1  \n",
      "4      Atm               1  \n"
     ]
    }
   ],
   "source": [
    "\n",
    "# Definir la consulta SQL para cada dataset\n",
    "query_metadata_google = \"\"\"\n",
    "SELECT gmap_id, name, address, description, latitude, longitude, category, num_of_reviews\n",
    "FROM `canvas-sum-435121-c0.dataset_procesado.Metadata_Google_new`\n",
    "\"\"\"\n",
    "\n",
    "# Ejecutar las consultas y cargar los resultados en DataFrames de pandas\n",
    "metadata_google = client.query(query_metadata_google).to_dataframe()\n",
    "\n",
    "# Mostrar las primeras filas de cada DataFrame para verificar la carga de datos\n",
    "print(metadata_google.head())\n"
   ]
  },
  {
   "cell_type": "code",
   "execution_count": 3,
   "metadata": {},
   "outputs": [
    {
     "name": "stdout",
     "output_type": "stream",
     "text": [
      "<class 'pandas.core.frame.DataFrame'>\n",
      "RangeIndex: 119362 entries, 0 to 119361\n",
      "Data columns (total 8 columns):\n",
      " #   Column          Non-Null Count   Dtype  \n",
      "---  ------          --------------   -----  \n",
      " 0   gmap_id         119362 non-null  object \n",
      " 1   name            119362 non-null  object \n",
      " 2   address         119362 non-null  object \n",
      " 3   description     119362 non-null  object \n",
      " 4   latitude        119362 non-null  float64\n",
      " 5   longitude       119362 non-null  float64\n",
      " 6   category        119362 non-null  object \n",
      " 7   num_of_reviews  119362 non-null  Int64  \n",
      "dtypes: Int64(1), float64(2), object(5)\n",
      "memory usage: 7.4+ MB\n"
     ]
    }
   ],
   "source": [
    "metadata_google.info()"
   ]
  },
  {
   "cell_type": "code",
   "execution_count": 4,
   "metadata": {},
   "outputs": [
    {
     "name": "stdout",
     "output_type": "stream",
     "text": [
      "               name  rating  \\\n",
      "0     Devon Meadows       1   \n",
      "1           Jacob S       1   \n",
      "2  Peter Villanueva       1   \n",
      "3        Aaran Pate       1   \n",
      "4           Miss Me       1   \n",
      "\n",
      "                                                text  \\\n",
      "0  Made An Appointment Came In Waited 45 Minutes ...   \n",
      "1  Dirty Is Not A Word When You Think Panera But ...   \n",
      "2                                          Foods Yuk   \n",
      "3  The Value You Get For Your Money Is Not There ...   \n",
      "4  The Car Wash Never Ever Ever Ever Ever Ever Wo...   \n",
      "\n",
      "                                                resp  \\\n",
      "0  Time 1523369295978 Text Devon  Thank You For T...   \n",
      "1                                           Sin Dato   \n",
      "2                                           Sin Dato   \n",
      "3                                           Sin Dato   \n",
      "4                                           Sin Dato   \n",
      "\n",
      "                              gmap_id  \n",
      "0  0X808F80B3Deb69Da70Xcd53Ffd65E7B1C  \n",
      "1  0X808F914094Fdfb0D0Xee9364D8Ccb35C  \n",
      "2  0X808F914094Fdfb0D0Xee9364D8Ccb35C  \n",
      "3  0X808F914094Fdfb0D0Xee9364D8Ccb35C  \n",
      "4  0X809Ad6Fb594336Ed0X97B8D459450E51  \n"
     ]
    }
   ],
   "source": [
    "# Definir la consulta SQL para cada dataset\n",
    "query_reviews_google = \"\"\"\n",
    "SELECT name, rating, text, resp, gmap_id\n",
    "FROM `canvas-sum-435121-c0.dataset_procesado.Reviews_Google_new`\n",
    "\"\"\"\n",
    "\n",
    "# Ejecutar las consultas y cargar los resultados en DataFrames de pandas\n",
    "reviews_google = client.query(query_reviews_google).to_dataframe()\n",
    "\n",
    "# Mostrar las primeras filas de cada DataFrame para verificar la carga de datos\n",
    "print(reviews_google.head())"
   ]
  },
  {
   "cell_type": "code",
   "execution_count": 5,
   "metadata": {},
   "outputs": [
    {
     "name": "stdout",
     "output_type": "stream",
     "text": [
      "<class 'pandas.core.frame.DataFrame'>\n",
      "RangeIndex: 2624758 entries, 0 to 2624757\n",
      "Data columns (total 5 columns):\n",
      " #   Column   Dtype \n",
      "---  ------   ----- \n",
      " 0   name     object\n",
      " 1   rating   Int64 \n",
      " 2   text     object\n",
      " 3   resp     object\n",
      " 4   gmap_id  object\n",
      "dtypes: Int64(1), object(4)\n",
      "memory usage: 102.6+ MB\n"
     ]
    }
   ],
   "source": [
    "reviews_google.info()"
   ]
  },
  {
   "cell_type": "code",
   "execution_count": 6,
   "metadata": {},
   "outputs": [],
   "source": [
    "#cambiar nombre de name a name_user\n",
    "reviews_google.rename(columns={'name': 'name_user'}, inplace=True)\n"
   ]
  },
  {
   "cell_type": "code",
   "execution_count": 7,
   "metadata": {},
   "outputs": [
    {
     "name": "stdout",
     "output_type": "stream",
     "text": [
      "             business_id      name   Address  city state  postal_code  \\\n",
      "0  Opbg2Crwgxa2Dlchfvdjq  Gourmelt  Sin Dato  Reno    In          0.0   \n",
      "1  Opbg2Crwgxa2Dlchfvdjq  Gourmelt  Sin Dato  Reno    In          0.0   \n",
      "2  Opbg2Crwgxa2Dlchfvdjq  Gourmelt  Sin Dato  Reno    In          0.0   \n",
      "3  Opbg2Crwgxa2Dlchfvdjq  Gourmelt  Sin Dato  Reno    In          0.0   \n",
      "4  Opbg2Crwgxa2Dlchfvdjq  Gourmelt  Sin Dato  Reno    In          0.0   \n",
      "\n",
      "   latitude   longitude  stars_x  review_count  \\\n",
      "0  39.51529 -119.812013      4.0            51   \n",
      "1  39.51529 -119.812013      4.0            51   \n",
      "2  39.51529 -119.812013      4.0            51   \n",
      "3  39.51529 -119.812013      4.0            51   \n",
      "4  39.51529 -119.812013      4.0            51   \n",
      "\n",
      "                                 categories               review_id  stars_y  \\\n",
      "0  Restaurants Food Trucks Food Food Stands  6Sun_3I_Hgvwbpet2Swvoa        5   \n",
      "1  Restaurants Food Trucks Food Food Stands  Ryrw1Ah71Gydamvmzdwlgq        4   \n",
      "2  Restaurants Food Trucks Food Food Stands  8Snwpr4Xkwjhr3I2Rcsyta        5   \n",
      "3  Restaurants Food Trucks Food Food Stands   5F046Ufyidpn8Nnzhuldw        5   \n",
      "4  Restaurants Food Trucks Food Food Stands  Xkorqm_Jrovth7Kecoxvxg        4   \n",
      "\n",
      "   useful  funny  cool                                               text  \n",
      "0       0      0     0  Super Great Had A Lunch Sandwich And A Sweet S...  \n",
      "1       0      0     0  This Was My Second Visit To The Gourmelt Truck...  \n",
      "2       1      0     1  I Cannot Believe There Is Actual Negative Feed...  \n",
      "3       0      0     0  I Call Myself A Grilled Cheese Groupie Because...  \n",
      "4       0      0     0  One Of The Best Finds In Town The Tomato Soup ...  \n"
     ]
    }
   ],
   "source": [
    "query_yelp_reviews = \"\"\"\n",
    "SELECT business_id, name, Address, city, state, postal_code, latitude, longitude, stars_x, review_count, categories, review_id, stars_y, useful, funny, cool, text\n",
    "FROM `canvas-sum-435121-c0.dataset_procesado.Yelp_Reviews_California_new`\n",
    "\"\"\"\n",
    "yelp_reviews = client.query(query_yelp_reviews).to_dataframe()\n",
    "\n",
    "print(yelp_reviews.head())"
   ]
  },
  {
   "cell_type": "code",
   "execution_count": 8,
   "metadata": {},
   "outputs": [
    {
     "name": "stdout",
     "output_type": "stream",
     "text": [
      "<class 'pandas.core.frame.DataFrame'>\n",
      "RangeIndex: 779396 entries, 0 to 779395\n",
      "Data columns (total 17 columns):\n",
      " #   Column        Non-Null Count   Dtype  \n",
      "---  ------        --------------   -----  \n",
      " 0   business_id   779396 non-null  object \n",
      " 1   name          779396 non-null  object \n",
      " 2   Address       779396 non-null  object \n",
      " 3   city          779396 non-null  object \n",
      " 4   state         779396 non-null  object \n",
      " 5   postal_code   779396 non-null  float64\n",
      " 6   latitude      779396 non-null  float64\n",
      " 7   longitude     779396 non-null  float64\n",
      " 8   stars_x       779396 non-null  float64\n",
      " 9   review_count  779396 non-null  Int64  \n",
      " 10  categories    779396 non-null  object \n",
      " 11  review_id     779396 non-null  object \n",
      " 12  stars_y       779396 non-null  Int64  \n",
      " 13  useful        779396 non-null  Int64  \n",
      " 14  funny         779396 non-null  Int64  \n",
      " 15  cool          779396 non-null  Int64  \n",
      " 16  text          779396 non-null  object \n",
      "dtypes: Int64(5), float64(4), object(8)\n",
      "memory usage: 104.8+ MB\n"
     ]
    }
   ],
   "source": [
    "yelp_reviews.info()"
   ]
  },
  {
   "cell_type": "markdown",
   "metadata": {},
   "source": [
    "Se dejan los duplicados ya que pueden ser diferentes reviews para un solo restaurant"
   ]
  },
  {
   "cell_type": "code",
   "execution_count": 9,
   "metadata": {},
   "outputs": [
    {
     "name": "stdout",
     "output_type": "stream",
     "text": [
      "             business_id      name   Address  city state  postal_code  \\\n",
      "0  Opbg2Crwgxa2Dlchfvdjq  Gourmelt  Sin Dato  Reno    In          0.0   \n",
      "1  Opbg2Crwgxa2Dlchfvdjq  Gourmelt  Sin Dato  Reno    In          0.0   \n",
      "2  Opbg2Crwgxa2Dlchfvdjq  Gourmelt  Sin Dato  Reno    In          0.0   \n",
      "3  Opbg2Crwgxa2Dlchfvdjq  Gourmelt  Sin Dato  Reno    In          0.0   \n",
      "4  Opbg2Crwgxa2Dlchfvdjq  Gourmelt  Sin Dato  Reno    In          0.0   \n",
      "\n",
      "   latitude   longitude  stars_x  review_count  \\\n",
      "0  39.51529 -119.812013      4.0            51   \n",
      "1  39.51529 -119.812013      4.0            51   \n",
      "2  39.51529 -119.812013      4.0            51   \n",
      "3  39.51529 -119.812013      4.0            51   \n",
      "4  39.51529 -119.812013      4.0            51   \n",
      "\n",
      "                                 categories               review_id  stars_y  \\\n",
      "0  Restaurants Food Trucks Food Food Stands  6Sun_3I_Hgvwbpet2Swvoa        5   \n",
      "1  Restaurants Food Trucks Food Food Stands  Ryrw1Ah71Gydamvmzdwlgq        4   \n",
      "2  Restaurants Food Trucks Food Food Stands  8Snwpr4Xkwjhr3I2Rcsyta        5   \n",
      "3  Restaurants Food Trucks Food Food Stands   5F046Ufyidpn8Nnzhuldw        5   \n",
      "4  Restaurants Food Trucks Food Food Stands  Xkorqm_Jrovth7Kecoxvxg        4   \n",
      "\n",
      "   useful  funny  cool                                               text  \n",
      "0       0      0     0  Super Great Had A Lunch Sandwich And A Sweet S...  \n",
      "1       0      0     0  This Was My Second Visit To The Gourmelt Truck...  \n",
      "2       1      0     1  I Cannot Believe There Is Actual Negative Feed...  \n",
      "3       0      0     0  I Call Myself A Grilled Cheese Groupie Because...  \n",
      "4       0      0     0  One Of The Best Finds In Town The Tomato Soup ...  \n"
     ]
    }
   ],
   "source": [
    "# Filtrar Yelp por restaurantes en la columna 'categories'\n",
    "yelp_restaurants = yelp_reviews[yelp_reviews['categories'].str.contains(\"restaurant\", case=False, na=False)]\n",
    "\n",
    "print(yelp_restaurants.head())"
   ]
  },
  {
   "cell_type": "code",
   "execution_count": 10,
   "metadata": {},
   "outputs": [
    {
     "name": "stdout",
     "output_type": "stream",
     "text": [
      "<class 'pandas.core.frame.DataFrame'>\n",
      "Index: 455390 entries, 0 to 779351\n",
      "Data columns (total 17 columns):\n",
      " #   Column        Non-Null Count   Dtype  \n",
      "---  ------        --------------   -----  \n",
      " 0   business_id   455390 non-null  object \n",
      " 1   name          455390 non-null  object \n",
      " 2   Address       455390 non-null  object \n",
      " 3   city          455390 non-null  object \n",
      " 4   state         455390 non-null  object \n",
      " 5   postal_code   455390 non-null  float64\n",
      " 6   latitude      455390 non-null  float64\n",
      " 7   longitude     455390 non-null  float64\n",
      " 8   stars_x       455390 non-null  float64\n",
      " 9   review_count  455390 non-null  Int64  \n",
      " 10  categories    455390 non-null  object \n",
      " 11  review_id     455390 non-null  object \n",
      " 12  stars_y       455390 non-null  Int64  \n",
      " 13  useful        455390 non-null  Int64  \n",
      " 14  funny         455390 non-null  Int64  \n",
      " 15  cool          455390 non-null  Int64  \n",
      " 16  text          455390 non-null  object \n",
      "dtypes: Int64(5), float64(4), object(8)\n",
      "memory usage: 64.7+ MB\n"
     ]
    }
   ],
   "source": [
    "yelp_restaurants.info()"
   ]
  },
  {
   "cell_type": "markdown",
   "metadata": {},
   "source": [
    "Union entre metadata y review de Google"
   ]
  },
  {
   "cell_type": "code",
   "execution_count": 11,
   "metadata": {},
   "outputs": [
    {
     "name": "stdout",
     "output_type": "stream",
     "text": [
      "<class 'pandas.core.frame.DataFrame'>\n",
      "RangeIndex: 2005456 entries, 0 to 2005455\n",
      "Data columns (total 12 columns):\n",
      " #   Column          Dtype  \n",
      "---  ------          -----  \n",
      " 0   gmap_id         object \n",
      " 1   name            object \n",
      " 2   address         object \n",
      " 3   description     object \n",
      " 4   latitude        float64\n",
      " 5   longitude       float64\n",
      " 6   category        object \n",
      " 7   num_of_reviews  Int64  \n",
      " 8   name_user       object \n",
      " 9   rating          Int64  \n",
      " 10  text            object \n",
      " 11  resp            object \n",
      "dtypes: Int64(2), float64(2), object(8)\n",
      "memory usage: 187.4+ MB\n",
      "None\n"
     ]
    }
   ],
   "source": [
    "# Unir metadata_google y reviews_google usando gmap_id\n",
    "combined_google = pd.merge(metadata_google, reviews_google, how='inner', left_on='gmap_id', right_on='gmap_id')\n",
    "\n",
    "print(combined_google.info())"
   ]
  },
  {
   "cell_type": "code",
   "execution_count": 13,
   "metadata": {},
   "outputs": [
    {
     "name": "stdout",
     "output_type": "stream",
     "text": [
      "                                    gmap_id                name   address  \\\n",
      "83888  0X80Ea6B76Aaba03710X10A3F302De3C591C  Buckys Hot Chicken  Sin Dato   \n",
      "83889  0X80Ea6B76Aaba03710X10A3F302De3C591C  Buckys Hot Chicken  Sin Dato   \n",
      "83890  0X80Ea6B76Aaba03710X10A3F302De3C591C  Buckys Hot Chicken  Sin Dato   \n",
      "83891  0X80Ea6B76Aaba03710X10A3F302De3C591C  Buckys Hot Chicken  Sin Dato   \n",
      "83892  0X80Ea6B76Aaba03710X10A3F302De3C591C  Buckys Hot Chicken  Sin Dato   \n",
      "\n",
      "      description   latitude   longitude    category  num_of_reviews  \\\n",
      "83888    Sin Dato  35.320977 -119.018687  Restaurant              26   \n",
      "83889    Sin Dato  35.320977 -119.018687  Restaurant              26   \n",
      "83890    Sin Dato  35.320977 -119.018687  Restaurant              26   \n",
      "83891    Sin Dato  35.320977 -119.018687  Restaurant              26   \n",
      "83892    Sin Dato  35.320977 -119.018687  Restaurant              26   \n",
      "\n",
      "              name_user  rating  \\\n",
      "83888        Still Sick       1   \n",
      "83889   Carlos Conrique       5   \n",
      "83890     Anthony James       3   \n",
      "83891      Rebecca Ruiz       5   \n",
      "83892  Monica Jaramillo       3   \n",
      "\n",
      "                                                    text      resp  \n",
      "83888  They Fell Off Watch Out For Angry Chicks They ...  Sin Dato  \n",
      "83889  I Heard Of This Place From My Brother Who Work...  Sin Dato  \n",
      "83890  This Place Was Ok The Chicken Strip On A Hambu...  Sin Dato  \n",
      "83891  Food Truck At Chevron Fastish Food But Great Q...  Sin Dato  \n",
      "83892                                           Its Cool  Sin Dato  \n"
     ]
    }
   ],
   "source": [
    "# Filtrar metadata_google solo por restaurantes\n",
    "restaurants_google = combined_google[combined_google['category'].str.contains(\"restaurant\", case=False, na=False)]\n",
    "\n",
    "print(restaurants_google.head())"
   ]
  },
  {
   "cell_type": "code",
   "execution_count": 14,
   "metadata": {},
   "outputs": [
    {
     "name": "stdout",
     "output_type": "stream",
     "text": [
      "<class 'pandas.core.frame.DataFrame'>\n",
      "Index: 1457250 entries, 83888 to 2005035\n",
      "Data columns (total 12 columns):\n",
      " #   Column          Non-Null Count    Dtype  \n",
      "---  ------          --------------    -----  \n",
      " 0   gmap_id         1457250 non-null  object \n",
      " 1   name            1457250 non-null  object \n",
      " 2   address         1457250 non-null  object \n",
      " 3   description     1457250 non-null  object \n",
      " 4   latitude        1457250 non-null  float64\n",
      " 5   longitude       1457250 non-null  float64\n",
      " 6   category        1457250 non-null  object \n",
      " 7   num_of_reviews  1457250 non-null  Int64  \n",
      " 8   name_user       1457250 non-null  object \n",
      " 9   rating          1457250 non-null  Int64  \n",
      " 10  text            1457250 non-null  object \n",
      " 11  resp            1457250 non-null  object \n",
      "dtypes: Int64(2), float64(2), object(8)\n",
      "memory usage: 147.3+ MB\n"
     ]
    }
   ],
   "source": [
    "restaurants_google.info()"
   ]
  },
  {
   "cell_type": "code",
   "execution_count": 15,
   "metadata": {},
   "outputs": [
    {
     "data": {
      "text/plain": [
       "729383"
      ]
     },
     "execution_count": 15,
     "metadata": {},
     "output_type": "execute_result"
    }
   ],
   "source": [
    "restaurants_google.duplicated().sum()"
   ]
  },
  {
   "cell_type": "code",
   "execution_count": 17,
   "metadata": {},
   "outputs": [
    {
     "name": "stdout",
     "output_type": "stream",
     "text": [
      "Index(['gmap_id', 'name', 'address', 'description', 'latitude', 'longitude',\n",
      "       'category', 'num_of_reviews', 'name_user', 'rating', 'text', 'resp'],\n",
      "      dtype='object')\n",
      "Index(['business_id', 'name', 'Address', 'city', 'state', 'postal_code',\n",
      "       'latitude', 'longitude', 'stars_x', 'review_count', 'categories',\n",
      "       'review_id', 'stars_y', 'useful', 'funny', 'cool', 'text'],\n",
      "      dtype='object')\n"
     ]
    }
   ],
   "source": [
    "print(restaurants_google.columns)\n",
    "print(yelp_restaurants.columns)"
   ]
  },
  {
   "cell_type": "code",
   "execution_count": 19,
   "metadata": {},
   "outputs": [],
   "source": [
    "restaurants_google.to_csv('google_reviews.csv', index=False)\n",
    "yelp_restaurants.to_csv('yelp_reviews.csv', index=False)"
   ]
  }
 ],
 "metadata": {
  "kernelspec": {
   "display_name": "Python 3",
   "language": "python",
   "name": "python3"
  },
  "language_info": {
   "codemirror_mode": {
    "name": "ipython",
    "version": 3
   },
   "file_extension": ".py",
   "mimetype": "text/x-python",
   "name": "python",
   "nbconvert_exporter": "python",
   "pygments_lexer": "ipython3",
   "version": "3.12.3"
  }
 },
 "nbformat": 4,
 "nbformat_minor": 2
}
